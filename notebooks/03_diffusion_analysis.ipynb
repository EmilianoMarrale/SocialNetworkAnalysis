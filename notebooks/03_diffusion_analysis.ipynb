{
 "cells": [
  {
   "cell_type": "code",
   "execution_count": null,
   "id": "2fe384a7",
   "metadata": {},
   "outputs": [],
   "source": [
    "import pandas as pd\n",
    "import numpy as np\n",
    "from src.data_collection import deg_utils, stringdb_api\n",
    "from src.analysis import clustering_utils\n",
    "import networkx as nx\n",
    "from src.graph.graph_util import *\n",
    "import config.config as config\n",
    "from src.visualization.plots import plot_dist\n",
    "from cdlib import algorithms\n",
    "from IPython.display import Image, display\n",
    "\n",
    "import dill\n",
    "dill.load_session(\"03_session.pkl\")"
   ]
  },
  {
   "cell_type": "markdown",
   "id": "dbeffca5",
   "metadata": {},
   "source": [
    "# Diffusion analysis"
   ]
  },
  {
   "cell_type": "markdown",
   "id": "6aa787cc",
   "metadata": {},
   "source": [
    "Is it possible to study the effects of the up and down regulated genes over the whole network?\n",
    "\n",
    "Would this provide meaningful insights? How should the analysis be structured?\n",
    "\n",
    "**IPOTESI DA TESTARE**: cercare network motifs interessanti come positive/negative feedback loops e bifans nel directed graph una volta buildato. \n",
    "Se ad esempio individuo un grande feedback loop, posso farne il functional enrichment e vedere se è legato a una specifica funzione, oltre che a generare ipotesi sulla possibile evoluzione dati i livelli di fold change e propagazione."
   ]
  },
  {
   "cell_type": "markdown",
   "id": "4b98c961",
   "metadata": {},
   "source": [
    "To address this, i am going to build a directed graph, including activation/inhibition informations over all the edges and then propagate the fold changes of the seed genes into the network."
   ]
  },
  {
   "cell_type": "code",
   "execution_count": null,
   "id": "7e1d3913",
   "metadata": {},
   "outputs": [],
   "source": []
  },
  {
   "cell_type": "code",
   "execution_count": null,
   "id": "d6c9c68f",
   "metadata": {},
   "outputs": [],
   "source": [
    "dill.dump_session(\"03_session.pkl\")"
   ]
  }
 ],
 "metadata": {
  "language_info": {
   "name": "python"
  }
 },
 "nbformat": 4,
 "nbformat_minor": 5
}
